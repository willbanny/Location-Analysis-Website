{
 "cells": [
  {
   "cell_type": "code",
   "execution_count": 1,
   "id": "dc6889e1",
   "metadata": {},
   "outputs": [],
   "source": [
    "import pandas as pd"
   ]
  },
  {
   "cell_type": "code",
   "execution_count": 2,
   "id": "f4c0a4a8",
   "metadata": {},
   "outputs": [
    {
     "name": "stdout",
     "output_type": "stream",
     "text": [
      "/home/willbanny/code/willbanny/Location-Analysis-Website/streamlit\r\n"
     ]
    }
   ],
   "source": [
    "!pwd"
   ]
  },
  {
   "cell_type": "code",
   "execution_count": 3,
   "id": "e077777f",
   "metadata": {},
   "outputs": [],
   "source": [
    "from gbq_functions.big_query_download import *"
   ]
  },
  {
   "cell_type": "code",
   "execution_count": 4,
   "id": "985646c3",
   "metadata": {},
   "outputs": [],
   "source": [
    "master_df = get_master_district_df()"
   ]
  },
  {
   "cell_type": "code",
   "execution_count": 5,
   "id": "536c25e6",
   "metadata": {},
   "outputs": [],
   "source": [
    "master_df['start'] = master_df['District_ID'].astype(str).str[0]\n",
    "master_df_filtered = master_df[master_df['start'] == \"E\"]"
   ]
  },
  {
   "cell_type": "code",
   "execution_count": 8,
   "id": "0b2671a5",
   "metadata": {},
   "outputs": [],
   "source": [
    "sorted_df = master_df_filtered.sort_values(by=\"District_ID\", ascending=False)"
   ]
  },
  {
   "cell_type": "code",
   "execution_count": 26,
   "id": "d7661bdc",
   "metadata": {},
   "outputs": [
    {
     "data": {
      "text/html": [
       "<div>\n",
       "<style scoped>\n",
       "    .dataframe tbody tr th:only-of-type {\n",
       "        vertical-align: middle;\n",
       "    }\n",
       "\n",
       "    .dataframe tbody tr th {\n",
       "        vertical-align: top;\n",
       "    }\n",
       "\n",
       "    .dataframe thead th {\n",
       "        text-align: right;\n",
       "    }\n",
       "</style>\n",
       "<table border=\"1\" class=\"dataframe\">\n",
       "  <thead>\n",
       "    <tr style=\"text-align: right;\">\n",
       "      <th></th>\n",
       "      <th>District</th>\n",
       "      <th>HECTARES</th>\n",
       "      <th>District_ID</th>\n",
       "      <th>BR_Left</th>\n",
       "      <th>BR_Top</th>\n",
       "      <th>BR_Right</th>\n",
       "      <th>BR_Bottom</th>\n",
       "      <th>Centroid_Lon</th>\n",
       "      <th>Centroid_Lat</th>\n",
       "      <th>start</th>\n",
       "    </tr>\n",
       "  </thead>\n",
       "  <tbody>\n",
       "    <tr>\n",
       "      <th>354</th>\n",
       "      <td>City of Westminster London Boro</td>\n",
       "      <td>2203.779</td>\n",
       "      <td>E09000033</td>\n",
       "      <td>-0.216091</td>\n",
       "      <td>51.539812</td>\n",
       "      <td>-0.111083</td>\n",
       "      <td>51.483806</td>\n",
       "      <td>-0.160463</td>\n",
       "      <td>51.513444</td>\n",
       "      <td>E</td>\n",
       "    </tr>\n",
       "    <tr>\n",
       "      <th>339</th>\n",
       "      <td>Wandsworth London Boro</td>\n",
       "      <td>3521.603</td>\n",
       "      <td>E09000032</td>\n",
       "      <td>-0.259135</td>\n",
       "      <td>51.485890</td>\n",
       "      <td>-0.126334</td>\n",
       "      <td>51.417752</td>\n",
       "      <td>-0.186192</td>\n",
       "      <td>51.451964</td>\n",
       "      <td>E</td>\n",
       "    </tr>\n",
       "    <tr>\n",
       "      <th>332</th>\n",
       "      <td>Waltham Forest London Boro</td>\n",
       "      <td>3881.023</td>\n",
       "      <td>E09000031</td>\n",
       "      <td>-0.062248</td>\n",
       "      <td>51.646527</td>\n",
       "      <td>0.025712</td>\n",
       "      <td>51.549905</td>\n",
       "      <td>-0.012631</td>\n",
       "      <td>51.594028</td>\n",
       "      <td>E</td>\n",
       "    </tr>\n",
       "    <tr>\n",
       "      <th>356</th>\n",
       "      <td>Tower Hamlets London Boro</td>\n",
       "      <td>2157.691</td>\n",
       "      <td>E09000030</td>\n",
       "      <td>-0.080209</td>\n",
       "      <td>51.544686</td>\n",
       "      <td>0.009828</td>\n",
       "      <td>51.484493</td>\n",
       "      <td>-0.034676</td>\n",
       "      <td>51.515740</td>\n",
       "      <td>E</td>\n",
       "    </tr>\n",
       "    <tr>\n",
       "      <th>321</th>\n",
       "      <td>Sutton London Boro</td>\n",
       "      <td>4384.768</td>\n",
       "      <td>E09000029</td>\n",
       "      <td>-0.245429</td>\n",
       "      <td>51.393414</td>\n",
       "      <td>-0.116868</td>\n",
       "      <td>51.321487</td>\n",
       "      <td>-0.177569</td>\n",
       "      <td>51.362087</td>\n",
       "      <td>E</td>\n",
       "    </tr>\n",
       "    <tr>\n",
       "      <th>...</th>\n",
       "      <td>...</td>\n",
       "      <td>...</td>\n",
       "      <td>...</td>\n",
       "      <td>...</td>\n",
       "      <td>...</td>\n",
       "      <td>...</td>\n",
       "      <td>...</td>\n",
       "      <td>...</td>\n",
       "      <td>...</td>\n",
       "      <td>...</td>\n",
       "    </tr>\n",
       "    <tr>\n",
       "      <th>206</th>\n",
       "      <td>Darlington (B)</td>\n",
       "      <td>19748.946</td>\n",
       "      <td>E06000005</td>\n",
       "      <td>-1.709755</td>\n",
       "      <td>54.619356</td>\n",
       "      <td>-1.407280</td>\n",
       "      <td>54.451126</td>\n",
       "      <td>-1.552626</td>\n",
       "      <td>54.548706</td>\n",
       "      <td>E</td>\n",
       "    </tr>\n",
       "    <tr>\n",
       "      <th>200</th>\n",
       "      <td>Stockton-on-Tees (B)</td>\n",
       "      <td>20974.108</td>\n",
       "      <td>E06000004</td>\n",
       "      <td>-1.452630</td>\n",
       "      <td>54.645240</td>\n",
       "      <td>-1.153548</td>\n",
       "      <td>54.464139</td>\n",
       "      <td>-1.328940</td>\n",
       "      <td>54.562774</td>\n",
       "      <td>E</td>\n",
       "    </tr>\n",
       "    <tr>\n",
       "      <th>188</th>\n",
       "      <td>Redcar and Cleveland (B)</td>\n",
       "      <td>25379.413</td>\n",
       "      <td>E06000003</td>\n",
       "      <td>-1.201729</td>\n",
       "      <td>54.647976</td>\n",
       "      <td>-0.788293</td>\n",
       "      <td>54.487835</td>\n",
       "      <td>-1.021706</td>\n",
       "      <td>54.553602</td>\n",
       "      <td>E</td>\n",
       "    </tr>\n",
       "    <tr>\n",
       "      <th>310</th>\n",
       "      <td>Middlesbrough (B)</td>\n",
       "      <td>5455.359</td>\n",
       "      <td>E06000002</td>\n",
       "      <td>-1.285424</td>\n",
       "      <td>54.591517</td>\n",
       "      <td>-1.137306</td>\n",
       "      <td>54.501113</td>\n",
       "      <td>-1.222440</td>\n",
       "      <td>54.542485</td>\n",
       "      <td>E</td>\n",
       "    </tr>\n",
       "    <tr>\n",
       "      <th>266</th>\n",
       "      <td>Hartlepool (B)</td>\n",
       "      <td>9834.868</td>\n",
       "      <td>E06000001</td>\n",
       "      <td>-1.383754</td>\n",
       "      <td>54.727158</td>\n",
       "      <td>-1.147526</td>\n",
       "      <td>54.621658</td>\n",
       "      <td>-1.255653</td>\n",
       "      <td>54.669021</td>\n",
       "      <td>E</td>\n",
       "    </tr>\n",
       "  </tbody>\n",
       "</table>\n",
       "<p>309 rows × 10 columns</p>\n",
       "</div>"
      ],
      "text/plain": [
       "                            District   HECTARES District_ID   BR_Left  \\\n",
       "354  City of Westminster London Boro   2203.779   E09000033 -0.216091   \n",
       "339           Wandsworth London Boro   3521.603   E09000032 -0.259135   \n",
       "332       Waltham Forest London Boro   3881.023   E09000031 -0.062248   \n",
       "356        Tower Hamlets London Boro   2157.691   E09000030 -0.080209   \n",
       "321               Sutton London Boro   4384.768   E09000029 -0.245429   \n",
       "..                               ...        ...         ...       ...   \n",
       "206                   Darlington (B)  19748.946   E06000005 -1.709755   \n",
       "200             Stockton-on-Tees (B)  20974.108   E06000004 -1.452630   \n",
       "188         Redcar and Cleveland (B)  25379.413   E06000003 -1.201729   \n",
       "310                Middlesbrough (B)   5455.359   E06000002 -1.285424   \n",
       "266                   Hartlepool (B)   9834.868   E06000001 -1.383754   \n",
       "\n",
       "        BR_Top  BR_Right  BR_Bottom  Centroid_Lon  Centroid_Lat start  \n",
       "354  51.539812 -0.111083  51.483806     -0.160463     51.513444     E  \n",
       "339  51.485890 -0.126334  51.417752     -0.186192     51.451964     E  \n",
       "332  51.646527  0.025712  51.549905     -0.012631     51.594028     E  \n",
       "356  51.544686  0.009828  51.484493     -0.034676     51.515740     E  \n",
       "321  51.393414 -0.116868  51.321487     -0.177569     51.362087     E  \n",
       "..         ...       ...        ...           ...           ...   ...  \n",
       "206  54.619356 -1.407280  54.451126     -1.552626     54.548706     E  \n",
       "200  54.645240 -1.153548  54.464139     -1.328940     54.562774     E  \n",
       "188  54.647976 -0.788293  54.487835     -1.021706     54.553602     E  \n",
       "310  54.591517 -1.137306  54.501113     -1.222440     54.542485     E  \n",
       "266  54.727158 -1.147526  54.621658     -1.255653     54.669021     E  \n",
       "\n",
       "[309 rows x 10 columns]"
      ]
     },
     "execution_count": 26,
     "metadata": {},
     "output_type": "execute_result"
    }
   ],
   "source": [
    "sorted_df"
   ]
  },
  {
   "cell_type": "code",
   "execution_count": 23,
   "id": "9d416822",
   "metadata": {},
   "outputs": [],
   "source": [
    "start_lon = sorted_df[['Centroid_Lon']].iloc[[0]]\n",
    "start_lat = sorted_df[['Centroid_Lat']].iloc[0]"
   ]
  },
  {
   "cell_type": "code",
   "execution_count": 24,
   "id": "92a68d4a",
   "metadata": {},
   "outputs": [
    {
     "data": {
      "text/html": [
       "<div>\n",
       "<style scoped>\n",
       "    .dataframe tbody tr th:only-of-type {\n",
       "        vertical-align: middle;\n",
       "    }\n",
       "\n",
       "    .dataframe tbody tr th {\n",
       "        vertical-align: top;\n",
       "    }\n",
       "\n",
       "    .dataframe thead th {\n",
       "        text-align: right;\n",
       "    }\n",
       "</style>\n",
       "<table border=\"1\" class=\"dataframe\">\n",
       "  <thead>\n",
       "    <tr style=\"text-align: right;\">\n",
       "      <th></th>\n",
       "      <th>Centroid_Lon</th>\n",
       "    </tr>\n",
       "  </thead>\n",
       "  <tbody>\n",
       "    <tr>\n",
       "      <th>354</th>\n",
       "      <td>-0.160463</td>\n",
       "    </tr>\n",
       "  </tbody>\n",
       "</table>\n",
       "</div>"
      ],
      "text/plain": [
       "     Centroid_Lon\n",
       "354     -0.160463"
      ]
     },
     "execution_count": 24,
     "metadata": {},
     "output_type": "execute_result"
    }
   ],
   "source": [
    "start_lon"
   ]
  },
  {
   "cell_type": "code",
   "execution_count": 30,
   "id": "6b493b43",
   "metadata": {},
   "outputs": [],
   "source": [
    "sorted_df_filter = sorted_df[sorted_df['District'] == \"Wandsworth London Boro\"]"
   ]
  },
  {
   "cell_type": "code",
   "execution_count": 32,
   "id": "fa57fe16",
   "metadata": {},
   "outputs": [
    {
     "data": {
      "text/plain": [
       "-0.186191508414217"
      ]
     },
     "execution_count": 32,
     "metadata": {},
     "output_type": "execute_result"
    }
   ],
   "source": [
    "sorted_df_filter.iloc[0]['Centroid_Lon']"
   ]
  },
  {
   "cell_type": "code",
   "execution_count": null,
   "id": "14654f14",
   "metadata": {},
   "outputs": [],
   "source": []
  }
 ],
 "metadata": {
  "kernelspec": {
   "display_name": "Python 3 (ipykernel)",
   "language": "python",
   "name": "python3"
  },
  "language_info": {
   "codemirror_mode": {
    "name": "ipython",
    "version": 3
   },
   "file_extension": ".py",
   "mimetype": "text/x-python",
   "name": "python",
   "nbconvert_exporter": "python",
   "pygments_lexer": "ipython3",
   "version": "3.10.6"
  },
  "toc": {
   "base_numbering": 1,
   "nav_menu": {},
   "number_sections": true,
   "sideBar": true,
   "skip_h1_title": false,
   "title_cell": "Table of Contents",
   "title_sidebar": "Contents",
   "toc_cell": false,
   "toc_position": {},
   "toc_section_display": true,
   "toc_window_display": false
  }
 },
 "nbformat": 4,
 "nbformat_minor": 5
}
