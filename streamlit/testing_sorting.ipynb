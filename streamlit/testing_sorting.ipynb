{
 "cells": [
  {
   "cell_type": "code",
   "execution_count": 1,
   "id": "dc6889e1",
   "metadata": {},
   "outputs": [],
   "source": [
    "import pandas as pd"
   ]
  },
  {
   "cell_type": "code",
   "execution_count": 2,
   "id": "f4c0a4a8",
   "metadata": {},
   "outputs": [
    {
     "name": "stdout",
     "output_type": "stream",
     "text": [
      "/home/willbanny/code/willbanny/project_website/streamlit\r\n"
     ]
    }
   ],
   "source": [
    "!pwd"
   ]
  },
  {
   "cell_type": "code",
   "execution_count": 3,
   "id": "e077777f",
   "metadata": {},
   "outputs": [],
   "source": [
    "from gbq_functions.big_query_download import *"
   ]
  },
  {
   "cell_type": "code",
   "execution_count": 5,
   "id": "985646c3",
   "metadata": {},
   "outputs": [],
   "source": [
    "master_df = get_master_district_df()"
   ]
  },
  {
   "cell_type": "code",
   "execution_count": null,
   "id": "536c25e6",
   "metadata": {},
   "outputs": [],
   "source": [
    "master_df['start'] = master_df['District_ID'].astype(str).str[0]\n",
    "master_df_filtered = master_df[master_df['start'] == \"E\"]"
   ]
  },
  {
   "cell_type": "code",
   "execution_count": 13,
   "id": "0b2671a5",
   "metadata": {},
   "outputs": [],
   "source": [
    "sorted_df = master_df_filtered.sort_values(by=\"District_ID\", ascending=False)[['District']]"
   ]
  },
  {
   "cell_type": "code",
   "execution_count": 14,
   "id": "9d416822",
   "metadata": {},
   "outputs": [
    {
     "data": {
      "text/html": [
       "<div>\n",
       "<style scoped>\n",
       "    .dataframe tbody tr th:only-of-type {\n",
       "        vertical-align: middle;\n",
       "    }\n",
       "\n",
       "    .dataframe tbody tr th {\n",
       "        vertical-align: top;\n",
       "    }\n",
       "\n",
       "    .dataframe thead th {\n",
       "        text-align: right;\n",
       "    }\n",
       "</style>\n",
       "<table border=\"1\" class=\"dataframe\">\n",
       "  <thead>\n",
       "    <tr style=\"text-align: right;\">\n",
       "      <th></th>\n",
       "      <th>District</th>\n",
       "    </tr>\n",
       "  </thead>\n",
       "  <tbody>\n",
       "    <tr>\n",
       "      <th>354</th>\n",
       "      <td>City of Westminster London Boro</td>\n",
       "    </tr>\n",
       "    <tr>\n",
       "      <th>339</th>\n",
       "      <td>Wandsworth London Boro</td>\n",
       "    </tr>\n",
       "    <tr>\n",
       "      <th>332</th>\n",
       "      <td>Waltham Forest London Boro</td>\n",
       "    </tr>\n",
       "    <tr>\n",
       "      <th>356</th>\n",
       "      <td>Tower Hamlets London Boro</td>\n",
       "    </tr>\n",
       "    <tr>\n",
       "      <th>321</th>\n",
       "      <td>Sutton London Boro</td>\n",
       "    </tr>\n",
       "    <tr>\n",
       "      <th>...</th>\n",
       "      <td>...</td>\n",
       "    </tr>\n",
       "    <tr>\n",
       "      <th>206</th>\n",
       "      <td>Darlington (B)</td>\n",
       "    </tr>\n",
       "    <tr>\n",
       "      <th>200</th>\n",
       "      <td>Stockton-on-Tees (B)</td>\n",
       "    </tr>\n",
       "    <tr>\n",
       "      <th>188</th>\n",
       "      <td>Redcar and Cleveland (B)</td>\n",
       "    </tr>\n",
       "    <tr>\n",
       "      <th>310</th>\n",
       "      <td>Middlesbrough (B)</td>\n",
       "    </tr>\n",
       "    <tr>\n",
       "      <th>266</th>\n",
       "      <td>Hartlepool (B)</td>\n",
       "    </tr>\n",
       "  </tbody>\n",
       "</table>\n",
       "<p>309 rows × 1 columns</p>\n",
       "</div>"
      ],
      "text/plain": [
       "                            District\n",
       "354  City of Westminster London Boro\n",
       "339           Wandsworth London Boro\n",
       "332       Waltham Forest London Boro\n",
       "356        Tower Hamlets London Boro\n",
       "321               Sutton London Boro\n",
       "..                               ...\n",
       "206                   Darlington (B)\n",
       "200             Stockton-on-Tees (B)\n",
       "188         Redcar and Cleveland (B)\n",
       "310                Middlesbrough (B)\n",
       "266                   Hartlepool (B)\n",
       "\n",
       "[309 rows x 1 columns]"
      ]
     },
     "execution_count": 14,
     "metadata": {},
     "output_type": "execute_result"
    }
   ],
   "source": [
    "sorted_df"
   ]
  },
  {
   "cell_type": "code",
   "execution_count": null,
   "id": "92a68d4a",
   "metadata": {},
   "outputs": [],
   "source": []
  }
 ],
 "metadata": {
  "kernelspec": {
   "display_name": "Python 3 (ipykernel)",
   "language": "python",
   "name": "python3"
  },
  "language_info": {
   "codemirror_mode": {
    "name": "ipython",
    "version": 3
   },
   "file_extension": ".py",
   "mimetype": "text/x-python",
   "name": "python",
   "nbconvert_exporter": "python",
   "pygments_lexer": "ipython3",
   "version": "3.10.6"
  },
  "toc": {
   "base_numbering": 1,
   "nav_menu": {},
   "number_sections": true,
   "sideBar": true,
   "skip_h1_title": false,
   "title_cell": "Table of Contents",
   "title_sidebar": "Contents",
   "toc_cell": false,
   "toc_position": {},
   "toc_section_display": true,
   "toc_window_display": false
  }
 },
 "nbformat": 4,
 "nbformat_minor": 5
}
