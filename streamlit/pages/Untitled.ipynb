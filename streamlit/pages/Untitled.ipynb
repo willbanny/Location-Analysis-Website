{
 "cells": [
  {
   "cell_type": "code",
   "execution_count": 1,
   "id": "f4d15d03",
   "metadata": {},
   "outputs": [
    {
     "name": "stdout",
     "output_type": "stream",
     "text": [
      "/home/willbanny/code/willbanny/Location-Analysis-Website/streamlit/pages\r\n"
     ]
    }
   ],
   "source": [
    "!pwd"
   ]
  },
  {
   "cell_type": "code",
   "execution_count": 2,
   "id": "da907800",
   "metadata": {},
   "outputs": [],
   "source": [
    "import pandas as pd"
   ]
  },
  {
   "cell_type": "code",
   "execution_count": 3,
   "id": "d4e4aa49",
   "metadata": {},
   "outputs": [],
   "source": [
    "carehomes_df = pd.read_csv(\"../../outputs/all_carehomes.csv\")"
   ]
  },
  {
   "cell_type": "code",
   "execution_count": 4,
   "id": "7ab602e1",
   "metadata": {},
   "outputs": [
    {
     "data": {
      "text/html": [
       "<div>\n",
       "<style scoped>\n",
       "    .dataframe tbody tr th:only-of-type {\n",
       "        vertical-align: middle;\n",
       "    }\n",
       "\n",
       "    .dataframe tbody tr th {\n",
       "        vertical-align: top;\n",
       "    }\n",
       "\n",
       "    .dataframe thead th {\n",
       "        text-align: right;\n",
       "    }\n",
       "</style>\n",
       "<table border=\"1\" class=\"dataframe\">\n",
       "  <thead>\n",
       "    <tr style=\"text-align: right;\">\n",
       "      <th></th>\n",
       "      <th>Unnamed: 0</th>\n",
       "      <th>lat</th>\n",
       "      <th>lng</th>\n",
       "      <th>District</th>\n",
       "    </tr>\n",
       "  </thead>\n",
       "  <tbody>\n",
       "    <tr>\n",
       "      <th>0</th>\n",
       "      <td>0</td>\n",
       "      <td>1.150452</td>\n",
       "      <td>52.088019</td>\n",
       "      <td>Ipswich District (B)</td>\n",
       "    </tr>\n",
       "    <tr>\n",
       "      <th>1</th>\n",
       "      <td>1</td>\n",
       "      <td>-3.002580</td>\n",
       "      <td>53.345515</td>\n",
       "      <td>Wirral District (B)</td>\n",
       "    </tr>\n",
       "    <tr>\n",
       "      <th>2</th>\n",
       "      <td>2</td>\n",
       "      <td>-2.295343</td>\n",
       "      <td>53.558464</td>\n",
       "      <td>Bury District (B)</td>\n",
       "    </tr>\n",
       "    <tr>\n",
       "      <th>3</th>\n",
       "      <td>3</td>\n",
       "      <td>0.561912</td>\n",
       "      <td>50.857483</td>\n",
       "      <td>Hastings District (B)</td>\n",
       "    </tr>\n",
       "    <tr>\n",
       "      <th>4</th>\n",
       "      <td>4</td>\n",
       "      <td>0.002853</td>\n",
       "      <td>51.442094</td>\n",
       "      <td>Lewisham London Boro</td>\n",
       "    </tr>\n",
       "    <tr>\n",
       "      <th>...</th>\n",
       "      <td>...</td>\n",
       "      <td>...</td>\n",
       "      <td>...</td>\n",
       "      <td>...</td>\n",
       "    </tr>\n",
       "    <tr>\n",
       "      <th>20755</th>\n",
       "      <td>20755</td>\n",
       "      <td>-3.008336</td>\n",
       "      <td>53.349380</td>\n",
       "      <td>Wirral District (B)</td>\n",
       "    </tr>\n",
       "    <tr>\n",
       "      <th>20756</th>\n",
       "      <td>20756</td>\n",
       "      <td>-3.531363</td>\n",
       "      <td>54.478972</td>\n",
       "      <td>Copeland District (B)</td>\n",
       "    </tr>\n",
       "    <tr>\n",
       "      <th>20757</th>\n",
       "      <td>20757</td>\n",
       "      <td>-3.513295</td>\n",
       "      <td>54.518615</td>\n",
       "      <td>Copeland District (B)</td>\n",
       "    </tr>\n",
       "    <tr>\n",
       "      <th>20758</th>\n",
       "      <td>20758</td>\n",
       "      <td>-3.158252</td>\n",
       "      <td>54.819729</td>\n",
       "      <td>Allerdale District (B)</td>\n",
       "    </tr>\n",
       "    <tr>\n",
       "      <th>20759</th>\n",
       "      <td>20759</td>\n",
       "      <td>0.874063</td>\n",
       "      <td>51.862935</td>\n",
       "      <td>Colchester District (B)</td>\n",
       "    </tr>\n",
       "  </tbody>\n",
       "</table>\n",
       "<p>20760 rows × 4 columns</p>\n",
       "</div>"
      ],
      "text/plain": [
       "       Unnamed: 0       lat        lng                 District\n",
       "0               0  1.150452  52.088019     Ipswich District (B)\n",
       "1               1 -3.002580  53.345515      Wirral District (B)\n",
       "2               2 -2.295343  53.558464        Bury District (B)\n",
       "3               3  0.561912  50.857483    Hastings District (B)\n",
       "4               4  0.002853  51.442094     Lewisham London Boro\n",
       "...           ...       ...        ...                      ...\n",
       "20755       20755 -3.008336  53.349380      Wirral District (B)\n",
       "20756       20756 -3.531363  54.478972    Copeland District (B)\n",
       "20757       20757 -3.513295  54.518615    Copeland District (B)\n",
       "20758       20758 -3.158252  54.819729   Allerdale District (B)\n",
       "20759       20759  0.874063  51.862935  Colchester District (B)\n",
       "\n",
       "[20760 rows x 4 columns]"
      ]
     },
     "execution_count": 4,
     "metadata": {},
     "output_type": "execute_result"
    }
   ],
   "source": [
    "carehomes_df"
   ]
  },
  {
   "cell_type": "code",
   "execution_count": null,
   "id": "27672c77",
   "metadata": {},
   "outputs": [],
   "source": []
  }
 ],
 "metadata": {
  "kernelspec": {
   "display_name": "Python 3 (ipykernel)",
   "language": "python",
   "name": "python3"
  },
  "language_info": {
   "codemirror_mode": {
    "name": "ipython",
    "version": 3
   },
   "file_extension": ".py",
   "mimetype": "text/x-python",
   "name": "python",
   "nbconvert_exporter": "python",
   "pygments_lexer": "ipython3",
   "version": "3.10.6"
  },
  "toc": {
   "base_numbering": 1,
   "nav_menu": {},
   "number_sections": true,
   "sideBar": true,
   "skip_h1_title": false,
   "title_cell": "Table of Contents",
   "title_sidebar": "Contents",
   "toc_cell": false,
   "toc_position": {},
   "toc_section_display": true,
   "toc_window_display": false
  }
 },
 "nbformat": 4,
 "nbformat_minor": 5
}
